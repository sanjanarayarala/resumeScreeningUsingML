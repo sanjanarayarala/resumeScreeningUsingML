{
 "cells": [
  {
   "cell_type": "markdown",
   "metadata": {
    "id": "ZMnJWoizZrIn"
   },
   "source": [
    "Import Libraries"
   ]
  },
  {
   "cell_type": "code",
   "execution_count": 35,
   "metadata": {
    "colab": {
     "base_uri": "https://localhost:8080/"
    },
    "id": "3kZPIxIJZY83",
    "outputId": "f3069bc6-062d-470e-c929-327b94ccf931"
   },
   "outputs": [
    {
     "name": "stderr",
     "output_type": "stream",
     "text": [
      "[nltk_data] Downloading package punkt to C:\\Users\\Sanjana\n",
      "[nltk_data]     Rayarala\\AppData\\Roaming\\nltk_data...\n",
      "[nltk_data]   Package punkt is already up-to-date!\n"
     ]
    }
   ],
   "source": [
    "import pandas as pd\n",
    "import numpy as np\n",
    "import PyPDF2\n",
    "import matplotlib.pyplot as plt\n",
    "import re\n",
    "from sklearn.feature_extraction.text import TfidfVectorizer\n",
    "from sklearn.model_selection import train_test_split\n",
    "from sklearn.preprocessing import LabelEncoder\n",
    "import nltk\n",
    "nltk.download('punkt')\n",
    "from sklearn.naive_bayes import MultinomialNB\n",
    "from sklearn.linear_model import LogisticRegression\n",
    "from sklearn.tree import DecisionTreeClassifier\n",
    "from sklearn.ensemble import RandomForestClassifier\n",
    "from sklearn.svm import LinearSVC\n",
    "from sklearn.neighbors import KNeighborsClassifier\n",
    "from sklearn.linear_model import SGDClassifier\n",
    "from sklearn.metrics import accuracy_score, classification_report"
   ]
  },
  {
   "cell_type": "markdown",
   "metadata": {
    "id": "0PsuzDttaHR5"
   },
   "source": [
    "Read Dataset"
   ]
  },
  {
   "cell_type": "code",
   "execution_count": 36,
   "metadata": {
    "colab": {
     "base_uri": "https://localhost:8080/",
     "height": 206
    },
    "id": "0Db19mwXaFHW",
    "outputId": "690c05d1-d005-49db-cf22-11f55971dc9c"
   },
   "outputs": [
    {
     "data": {
      "text/html": [
       "<div>\n",
       "<style scoped>\n",
       "    .dataframe tbody tr th:only-of-type {\n",
       "        vertical-align: middle;\n",
       "    }\n",
       "\n",
       "    .dataframe tbody tr th {\n",
       "        vertical-align: top;\n",
       "    }\n",
       "\n",
       "    .dataframe thead th {\n",
       "        text-align: right;\n",
       "    }\n",
       "</style>\n",
       "<table border=\"1\" class=\"dataframe\">\n",
       "  <thead>\n",
       "    <tr style=\"text-align: right;\">\n",
       "      <th></th>\n",
       "      <th>Category</th>\n",
       "      <th>Resume</th>\n",
       "    </tr>\n",
       "  </thead>\n",
       "  <tbody>\n",
       "    <tr>\n",
       "      <th>0</th>\n",
       "      <td>Data Science</td>\n",
       "      <td>Skills * Programming Languages: Python (pandas...</td>\n",
       "    </tr>\n",
       "    <tr>\n",
       "      <th>1</th>\n",
       "      <td>Data Science</td>\n",
       "      <td>Education Details \\r\\nMay 2013 to May 2017 B.E...</td>\n",
       "    </tr>\n",
       "    <tr>\n",
       "      <th>2</th>\n",
       "      <td>Data Science</td>\n",
       "      <td>Areas of Interest Deep Learning, Control Syste...</td>\n",
       "    </tr>\n",
       "    <tr>\n",
       "      <th>3</th>\n",
       "      <td>Data Science</td>\n",
       "      <td>Skills â¢ R â¢ Python â¢ SAP HANA â¢ Table...</td>\n",
       "    </tr>\n",
       "    <tr>\n",
       "      <th>4</th>\n",
       "      <td>Data Science</td>\n",
       "      <td>Education Details \\r\\n MCA   YMCAUST,  Faridab...</td>\n",
       "    </tr>\n",
       "  </tbody>\n",
       "</table>\n",
       "</div>"
      ],
      "text/plain": [
       "       Category                                             Resume\n",
       "0  Data Science  Skills * Programming Languages: Python (pandas...\n",
       "1  Data Science  Education Details \\r\\nMay 2013 to May 2017 B.E...\n",
       "2  Data Science  Areas of Interest Deep Learning, Control Syste...\n",
       "3  Data Science  Skills â¢ R â¢ Python â¢ SAP HANA â¢ Table...\n",
       "4  Data Science  Education Details \\r\\n MCA   YMCAUST,  Faridab..."
      ]
     },
     "execution_count": 36,
     "metadata": {},
     "output_type": "execute_result"
    }
   ],
   "source": [
    "df = pd.read_csv('UpdatedResumeDataSet.csv')\n",
    "df.head()"
   ]
  },
  {
   "cell_type": "code",
   "execution_count": 37,
   "metadata": {
    "colab": {
     "base_uri": "https://localhost:8080/"
    },
    "id": "Sy5n_g8daFKd",
    "outputId": "c359a0cd-d33b-4dea-8e87-fa253c1440b7"
   },
   "outputs": [
    {
     "name": "stdout",
     "output_type": "stream",
     "text": [
      "['Data Science' 'HR' 'Advocate' 'Arts' 'Web Designing'\n",
      " 'Mechanical Engineer' 'Sales' 'Health and fitness' 'Civil Engineer'\n",
      " 'Java Developer' 'Business Analyst' 'SAP Developer' 'Automation Testing'\n",
      " 'Electrical Engineering' 'Operations Manager' 'Python Developer'\n",
      " 'DevOps Engineer' 'Network Security Engineer' 'PMO' 'Database' 'Hadoop'\n",
      " 'ETL Developer' 'DotNet Developer' 'Blockchain' 'Testing']\n"
     ]
    }
   ],
   "source": [
    "print(df['Category'].unique())"
   ]
  },
  {
   "cell_type": "code",
   "execution_count": 38,
   "metadata": {
    "colab": {
     "base_uri": "https://localhost:8080/"
    },
    "id": "fMkhHHNpaFNm",
    "outputId": "94588b2f-57e5-4cfe-e67e-854e4d9e1fd1"
   },
   "outputs": [
    {
     "name": "stdout",
     "output_type": "stream",
     "text": [
      "Category\n",
      "Java Developer               84\n",
      "Testing                      70\n",
      "DevOps Engineer              55\n",
      "Python Developer             48\n",
      "Web Designing                45\n",
      "HR                           44\n",
      "Hadoop                       42\n",
      "Blockchain                   40\n",
      "ETL Developer                40\n",
      "Operations Manager           40\n",
      "Data Science                 40\n",
      "Sales                        40\n",
      "Mechanical Engineer          40\n",
      "Arts                         36\n",
      "Database                     33\n",
      "Electrical Engineering       30\n",
      "Health and fitness           30\n",
      "PMO                          30\n",
      "Business Analyst             28\n",
      "DotNet Developer             28\n",
      "Automation Testing           26\n",
      "Network Security Engineer    25\n",
      "SAP Developer                24\n",
      "Civil Engineer               24\n",
      "Advocate                     20\n",
      "Name: count, dtype: int64\n"
     ]
    }
   ],
   "source": [
    "target_counts = df['Category'].value_counts()\n",
    "print(target_counts)"
   ]
  },
  {
   "cell_type": "code",
   "execution_count": 39,
   "metadata": {
    "colab": {
     "base_uri": "https://localhost:8080/",
     "height": 676
    },
    "id": "8HFRXQTua18A",
    "outputId": "c1c35cc2-984b-4332-9331-c8dff844cad1"
   },
   "outputs": [
    {
     "data": {
      "text/plain": [
       "<Axes: title={'center': 'Count of Each Category'}, xlabel='Category', ylabel='Values'>"
      ]
     },
     "execution_count": 39,
     "metadata": {},
     "output_type": "execute_result"
    },
    {
     "data": {
      "image/png": "[encoded data removed]",
      "text/plain": [
       "<Figure size 1000x500 with 1 Axes>"
      ]
     },
     "metadata": {},
     "output_type": "display_data"
    }
   ],
   "source": [
    "plt.figure(figsize= (10, 5))\n",
    "plt.xticks(rotation= 90)\n",
    "plt.xlabel('Categories')\n",
    "plt.ylabel('Values')\n",
    "plt.title('Count of Each Category')\n",
    "target_counts.plot(kind='bar')"
   ]
  },
  {
   "cell_type": "code",
   "execution_count": 40,
   "metadata": {
    "id": "8szjaht0bi1R"
   },
   "outputs": [],
   "source": [
    "def cleanResume(resumeText):\n",
    "  resumeText = resumeText.lower()\n",
    "  resumeText = re.sub('http\\S+\\s*', ' ', resumeText) # removing https\n",
    "  resumeText = re.sub('#\\S+', '', resumeText) # remove words starting with '#'\n",
    "  resumeText = re.sub('@\\S+', ' ', resumeText) # remove words starting with '@'\n",
    "  resumeText = re.sub('[%s]' % re.escape(\"\"\"!\"#$%&'()*+,-./:;<=>?@[\\]^_`{|}~\"\"\"), ' ', resumeText) # remove punctuation\n",
    "  resumeText = re.sub('[^\\x00-\\x7f]', ' ', resumeText) # remove Non-ASCII characters\n",
    "  resumeText = re.sub('\\d+', '', resumeText)  # remove any numbers\n",
    "  resumeText = re.sub('\\s+', ' ', resumeText) # remove extra spaces\n",
    "  return resumeText"
   ]
  },
  {
   "cell_type": "code",
   "execution_count": 41,
   "metadata": {
    "id": "XjIujpFabqgp"
   },
   "outputs": [],
   "source": [
    "df['cleaned_resume'] = df['Resume'].apply(lambda x: cleanResume(x))"
   ]
  },
  {
   "cell_type": "code",
   "execution_count": 42,
   "metadata": {
    "id": "evNz0aRbb2IE"
   },
   "outputs": [],
   "source": [
    "def tokenize_sentence(sentence):\n",
    "    word_token = nltk.word_tokenize(sentence)\n",
    "    return ' '.join(word_token)"
   ]
  },
  {
   "cell_type": "code",
   "execution_count": 43,
   "metadata": {
    "id": "0jo5aomscBYL"
   },
   "outputs": [],
   "source": [
    "df['tokenized_resume'] = df['cleaned_resume'].apply(tokenize_sentence)"
   ]
  },
  {
   "cell_type": "code",
   "execution_count": 44,
   "metadata": {
    "id": "k50ua_kwcUBG"
   },
   "outputs": [
    {
     "name": "stderr",
     "output_type": "stream",
     "text": [
      "c:\\Users\\Sanjana Rayarala\\AppData\\Local\\Programs\\Python\\Python310\\lib\\site-packages\\sklearn\\utils\\validation.py:605: FutureWarning: is_sparse is deprecated and will be removed in a future version. Check `isinstance(dtype, pd.SparseDtype)` instead.\n",
      "  if is_sparse(pd_dtype):\n",
      "c:\\Users\\Sanjana Rayarala\\AppData\\Local\\Programs\\Python\\Python310\\lib\\site-packages\\sklearn\\utils\\validation.py:614: FutureWarning: is_sparse is deprecated and will be removed in a future version. Check `isinstance(dtype, pd.SparseDtype)` instead.\n",
      "  if is_sparse(pd_dtype) or not is_extension_array_dtype(pd_dtype):\n"
     ]
    }
   ],
   "source": [
    "lenc = LabelEncoder()\n",
    "df['Category_Labelled'] = lenc.fit_transform(df['Category'])"
   ]
  },
  {
   "cell_type": "code",
   "execution_count": 45,
   "metadata": {
    "colab": {
     "base_uri": "https://localhost:8080/",
     "height": 206
    },
    "id": "5cafsVVbcdJX",
    "outputId": "f38fed45-d3b8-4b2f-ca6f-eee4a04e409e"
   },
   "outputs": [
    {
     "data": {
      "text/html": [
       "<div>\n",
       "<style scoped>\n",
       "    .dataframe tbody tr th:only-of-type {\n",
       "        vertical-align: middle;\n",
       "    }\n",
       "\n",
       "    .dataframe tbody tr th {\n",
       "        vertical-align: top;\n",
       "    }\n",
       "\n",
       "    .dataframe thead th {\n",
       "        text-align: right;\n",
       "    }\n",
       "</style>\n",
       "<table border=\"1\" class=\"dataframe\">\n",
       "  <thead>\n",
       "    <tr style=\"text-align: right;\">\n",
       "      <th></th>\n",
       "      <th>Category</th>\n",
       "      <th>Resume</th>\n",
       "      <th>cleaned_resume</th>\n",
       "      <th>tokenized_resume</th>\n",
       "      <th>Category_Labelled</th>\n",
       "    </tr>\n",
       "  </thead>\n",
       "  <tbody>\n",
       "    <tr>\n",
       "      <th>0</th>\n",
       "      <td>Data Science</td>\n",
       "      <td>Skills * Programming Languages: Python (pandas...</td>\n",
       "      <td>skills programming languages python pandas num...</td>\n",
       "      <td>skills programming languages python pandas num...</td>\n",
       "      <td>6</td>\n",
       "    </tr>\n",
       "    <tr>\n",
       "      <th>1</th>\n",
       "      <td>Data Science</td>\n",
       "      <td>Education Details \\r\\nMay 2013 to May 2017 B.E...</td>\n",
       "      <td>education details may to may b e uit rgpv data...</td>\n",
       "      <td>education details may to may b e uit rgpv data...</td>\n",
       "      <td>6</td>\n",
       "    </tr>\n",
       "    <tr>\n",
       "      <th>2</th>\n",
       "      <td>Data Science</td>\n",
       "      <td>Areas of Interest Deep Learning, Control Syste...</td>\n",
       "      <td>areas of interest deep learning control system...</td>\n",
       "      <td>areas of interest deep learning control system...</td>\n",
       "      <td>6</td>\n",
       "    </tr>\n",
       "    <tr>\n",
       "      <th>3</th>\n",
       "      <td>Data Science</td>\n",
       "      <td>Skills â¢ R â¢ Python â¢ SAP HANA â¢ Table...</td>\n",
       "      <td>skills r python sap hana tableau sap hana sql ...</td>\n",
       "      <td>skills r python sap hana tableau sap hana sql ...</td>\n",
       "      <td>6</td>\n",
       "    </tr>\n",
       "    <tr>\n",
       "      <th>4</th>\n",
       "      <td>Data Science</td>\n",
       "      <td>Education Details \\r\\n MCA   YMCAUST,  Faridab...</td>\n",
       "      <td>education details mca ymcaust faridabad haryan...</td>\n",
       "      <td>education details mca ymcaust faridabad haryan...</td>\n",
       "      <td>6</td>\n",
       "    </tr>\n",
       "  </tbody>\n",
       "</table>\n",
       "</div>"
      ],
      "text/plain": [
       "       Category                                             Resume  \\\n",
       "0  Data Science  Skills * Programming Languages: Python (pandas...   \n",
       "1  Data Science  Education Details \\r\\nMay 2013 to May 2017 B.E...   \n",
       "2  Data Science  Areas of Interest Deep Learning, Control Syste...   \n",
       "3  Data Science  Skills â¢ R â¢ Python â¢ SAP HANA â¢ Table...   \n",
       "4  Data Science  Education Details \\r\\n MCA   YMCAUST,  Faridab...   \n",
       "\n",
       "                                      cleaned_resume  \\\n",
       "0  skills programming languages python pandas num...   \n",
       "1  education details may to may b e uit rgpv data...   \n",
       "2  areas of interest deep learning control system...   \n",
       "3  skills r python sap hana tableau sap hana sql ...   \n",
       "4  education details mca ymcaust faridabad haryan...   \n",
       "\n",
       "                                    tokenized_resume  Category_Labelled  \n",
       "0  skills programming languages python pandas num...                  6  \n",
       "1  education details may to may b e uit rgpv data...                  6  \n",
       "2  areas of interest deep learning control system...                  6  \n",
       "3  skills r python sap hana tableau sap hana sql ...                  6  \n",
       "4  education details mca ymcaust faridabad haryan...                  6  "
      ]
     },
     "execution_count": 45,
     "metadata": {},
     "output_type": "execute_result"
    }
   ],
   "source": [
    "df.head()"
   ]
  },
  {
   "cell_type": "code",
   "execution_count": 46,
   "metadata": {
    "id": "Vh6L1DCncPfW"
   },
   "outputs": [],
   "source": [
    "tokens = df['tokenized_resume'].values\n",
    "op_labels = df['Category_Labelled'].values"
   ]
  },
  {
   "cell_type": "code",
   "execution_count": 47,
   "metadata": {
    "id": "tOzFzBQccyGL"
   },
   "outputs": [],
   "source": [
    "X_train, X_test, y_train, y_test = train_test_split(tokens, op_labels, test_size= 0.25)"
   ]
  },
  {
   "cell_type": "code",
   "execution_count": 48,
   "metadata": {
    "id": "b47CgGFRcH_-"
   },
   "outputs": [],
   "source": [
    "word_vectorizer = TfidfVectorizer(max_features= 1600)\n",
    "X_train = word_vectorizer.fit_transform(X_train)\n",
    "X_test = word_vectorizer.transform(X_test)"
   ]
  },
  {
   "cell_type": "markdown",
   "metadata": {
    "id": "kPudiAOqjnui"
   },
   "source": [
    "ML Models -"
   ]
  },
  {
   "cell_type": "code",
   "execution_count": 49,
   "metadata": {
    "id": "G5Sh3ejbc0qp"
   },
   "outputs": [],
   "source": [
    "mnb = MultinomialNB()\n",
    "lr = LogisticRegression()\n",
    "dt = DecisionTreeClassifier()\n",
    "rf = RandomForestClassifier()\n",
    "lsvm = LinearSVC()\n",
    "sgd = SGDClassifier()\n",
    "knn = KNeighborsClassifier()"
   ]
  },
  {
   "cell_type": "code",
   "execution_count": 50,
   "metadata": {
    "colab": {
     "base_uri": "https://localhost:8080/"
    },
    "id": "6BUUBNowdHL3",
    "outputId": "5b265bf3-0c4d-447c-e7d8-f2fe1e40e292"
   },
   "outputs": [
    {
     "name": "stdout",
     "output_type": "stream",
     "text": [
      "MultinomialNB 0.8506224066390041\n",
      "LinearSVC 0.991701244813278\n",
      "LogisticRegression 0.991701244813278\n",
      "KNeighborsClassifier 0.941908713692946\n",
      "SGDClassifier 0.991701244813278\n",
      "DecisionTreeClassifier 0.991701244813278\n",
      "RandomForestClassifier 0.991701244813278\n"
     ]
    }
   ],
   "source": [
    "model_accuracies = {}\n",
    "for clf in (mnb, lsvm, lr, knn, sgd, dt, rf):\n",
    "    clf.fit(X_train, y_train)\n",
    "    y_pred = clf.predict(X_test)\n",
    "    accuracy = accuracy_score(y_test, y_pred)\n",
    "    model_accuracies[clf] = accuracy\n",
    "    print(clf.__class__.__name__, accuracy)"
   ]
  },
  {
   "cell_type": "markdown",
   "metadata": {},
   "source": [
    "Choosing Best model"
   ]
  },
  {
   "cell_type": "code",
   "execution_count": 51,
   "metadata": {
    "id": "4YfV1MDkdSDb"
   },
   "outputs": [
    {
     "name": "stdout",
     "output_type": "stream",
     "text": [
      "Best model: LinearSVC with accuracy: 0.991701244813278\n"
     ]
    }
   ],
   "source": [
    "best_model = max(model_accuracies, key=model_accuracies.get)\n",
    "print(f\"Best model: {best_model.__class__.__name__} with accuracy: {model_accuracies[best_model]}\")\n"
   ]
  },
  {
   "cell_type": "code",
   "execution_count": 52,
   "metadata": {},
   "outputs": [
    {
     "name": "stdout",
     "output_type": "stream",
     "text": [
      "              precision    recall  f1-score   support\n",
      "\n",
      "           0       1.00      1.00      1.00         6\n",
      "           1       1.00      1.00      1.00         5\n",
      "           2       1.00      0.80      0.89        10\n",
      "           3       1.00      1.00      1.00        15\n",
      "           4       1.00      1.00      1.00        13\n",
      "           5       1.00      1.00      1.00         6\n",
      "           6       1.00      1.00      1.00         6\n",
      "           7       1.00      1.00      1.00         9\n",
      "           8       1.00      1.00      1.00        17\n",
      "           9       1.00      1.00      1.00         5\n",
      "          10       1.00      1.00      1.00        14\n",
      "          11       0.82      1.00      0.90         9\n",
      "          12       1.00      1.00      1.00         8\n",
      "          13       1.00      1.00      1.00         9\n",
      "          14       1.00      1.00      1.00         3\n",
      "          15       1.00      1.00      1.00        24\n",
      "          16       1.00      1.00      1.00        14\n",
      "          17       1.00      1.00      1.00         7\n",
      "          18       1.00      1.00      1.00         5\n",
      "          19       1.00      1.00      1.00         5\n",
      "          20       1.00      1.00      1.00        10\n",
      "          21       1.00      1.00      1.00         7\n",
      "          22       1.00      1.00      1.00         8\n",
      "          23       1.00      1.00      1.00        16\n",
      "          24       1.00      1.00      1.00        10\n",
      "\n",
      "    accuracy                           0.99       241\n",
      "   macro avg       0.99      0.99      0.99       241\n",
      "weighted avg       0.99      0.99      0.99       241\n",
      "\n"
     ]
    }
   ],
   "source": [
    "best_model.fit(X_train, y_train)\n",
    "bestmodel_predicted = best_model.predict(X_test)\n",
    "\n",
    "# Print classification report\n",
    "print(classification_report(y_test, bestmodel_predicted))"
   ]
  },
  {
   "cell_type": "markdown",
   "metadata": {
    "id": "CRpjmhNVdTN6"
   },
   "source": [
    "Test on unseen resume"
   ]
  },
  {
   "cell_type": "code",
   "execution_count": 55,
   "metadata": {
    "id": "0M6sIRNCdSRT"
   },
   "outputs": [],
   "source": [
    "def pdf2text(pdf_file):\n",
    "  with open(pdf_file, 'rb') as file:\n",
    "      pdf_reader = PyPDF2.PdfReader(file)\n",
    "      full_text = ''\n",
    "      for page_num in range(len(pdf_reader.pages)):\n",
    "          page = pdf_reader.pages[page_num]\n",
    "          full_text += page.extract_text()\n",
    "  return full_text"
   ]
  },
  {
   "cell_type": "code",
   "execution_count": 56,
   "metadata": {
    "id": "FTC39TJnmpTp"
   },
   "outputs": [],
   "source": [
    "def ml_prediction(text):\n",
    "  clean_text = cleanResume(text)\n",
    "  tokenized_text = tokenize_sentence(clean_text)\n",
    "  word_features = word_vectorizer.transform([tokenized_text])\n",
    "  ypred = best_model.predict(word_features)\n",
    "  decoded_op = lenc.inverse_transform(ypred)\n",
    "  return decoded_op[0]"
   ]
  },
  {
   "cell_type": "code",
   "execution_count": 60,
   "metadata": {
    "id": "VlbvORTQdoRR"
   },
   "outputs": [],
   "source": [
    "input_text = pdf2text('sample_hr.pdf')"
   ]
  },
  {
   "cell_type": "code",
   "execution_count": 61,
   "metadata": {
    "colab": {
     "base_uri": "https://localhost:8080/",
     "height": 35
    },
    "id": "sdDLIspDo-1i",
    "outputId": "2c71ea01-a2eb-4b1e-bce5-316f72ab3e61"
   },
   "outputs": [
    {
     "data": {
      "text/plain": [
       "'HR'"
      ]
     },
     "execution_count": 61,
     "metadata": {},
     "output_type": "execute_result"
    }
   ],
   "source": [
    "out = ml_prediction(input_text)\n",
    "out"
   ]
  }
 ],
 "metadata": {
  "colab": {
   "authorship_tag": "ABX9TyPejNfOz3Zv5nRPbcozbRkR",
   "include_colab_link": true,
   "provenance": []
  },
  "kernelspec": {
   "display_name": "Python 3",
   "name": "python3"
  },
  "language_info": {
   "codemirror_mode": {
    "name": "ipython",
    "version": 3
   },
   "file_extension": ".py",
   "mimetype": "text/x-python",
   "name": "python",
   "nbconvert_exporter": "python",
   "pygments_lexer": "ipython3",
   "version": "3.10.5"
  }
 },
 "nbformat": 4,
 "nbformat_minor": 0
}
